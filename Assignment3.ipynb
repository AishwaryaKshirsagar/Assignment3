{
  "nbformat": 4,
  "nbformat_minor": 0,
  "metadata": {
    "colab": {
      "name": "Assignment3.ipynb",
      "provenance": [],
      "authorship_tag": "ABX9TyOjMYkl1DC8xw1F/o+xumrj",
      "include_colab_link": true
    },
    "kernelspec": {
      "name": "python3",
      "display_name": "Python 3"
    },
    "language_info": {
      "name": "python"
    }
  },
  "cells": [
    {
      "cell_type": "markdown",
      "metadata": {
        "id": "view-in-github",
        "colab_type": "text"
      },
      "source": [
        "<a href=\"https://colab.research.google.com/github/AishwaryaKshirsagar/Assignment3/blob/main/Assignment3.ipynb\" target=\"_parent\"><img src=\"https://colab.research.google.com/assets/colab-badge.svg\" alt=\"Open In Colab\"/></a>"
      ]
    },
    {
      "cell_type": "markdown",
      "metadata": {
        "id": "x0Bfyj4Ha53S"
      },
      "source": [
        "Task 3\n",
        "\n",
        "SIRSS2228\n",
        "\n",
        "Aishwarya Kshirsagar "
      ]
    },
    {
      "cell_type": "code",
      "metadata": {
        "id": "bwHPutq3D9LI"
      },
      "source": [
        "# Q1. Write a function to return nth term of Fibonacci sequence.\n",
        "# Q2. Write a function to find out GCD of two numbers using EUCLID'S algorithm.\n",
        "# Q3. Write a function to find LCM of two number in most optimizers way."
      ],
      "execution_count": null,
      "outputs": []
    },
    {
      "cell_type": "code",
      "metadata": {
        "colab": {
          "base_uri": "https://localhost:8080/"
        },
        "id": "5q7tcJaEEMrw",
        "outputId": "85b20222-c3d1-484c-c6c0-def5eddd631c"
      },
      "source": [
        "# Q1. Write a function to return nth term of Fibonacci sequence.\n",
        "\n",
        "def Fibonacci(a):\n",
        "  if(a<2) :\n",
        "    return 1\n",
        "  else:\n",
        "    return (Fibonacci(a-1)+Fibonacci(a-2))\n",
        "\n",
        "b = int(input('Enter the value of a: '))\n",
        "print(b)\n",
        "print(Fibonacci(b-1), end = ' ')\n",
        "  \n"
      ],
      "execution_count": 7,
      "outputs": [
        {
          "output_type": "stream",
          "text": [
            "Enter the value of a: 8\n",
            "8\n",
            "21 "
          ],
          "name": "stdout"
        }
      ]
    },
    {
      "cell_type": "code",
      "metadata": {
        "colab": {
          "base_uri": "https://localhost:8080/"
        },
        "id": "rjzl5JI7EM9H",
        "outputId": "2bb88deb-08e7-41a5-b6de-9cc6621814ba"
      },
      "source": [
        "# Q2. Write a function to find out GCD of two numbers using EUCLID'S algorithm.\n",
        "\n",
        "def gcd(m,n):\n",
        "    if m< n: \n",
        "        (m,n) = (n,m)\n",
        "    if(m%n) == 0:\n",
        "        return n \n",
        "    else:\n",
        "        return (gcd(n, m % n))\n",
        "num1=int(input(\"Enter first number : \"))\n",
        "num2=int(input(\"Enter second number : \"))\n",
        "print(\"GCD is : \", gcd(num1,num2))"
      ],
      "execution_count": 8,
      "outputs": [
        {
          "output_type": "stream",
          "text": [
            "Enter first number : 44\n",
            "Enter second number : 66\n",
            "GCD is :  22\n"
          ],
          "name": "stdout"
        }
      ]
    },
    {
      "cell_type": "code",
      "metadata": {
        "colab": {
          "base_uri": "https://localhost:8080/"
        },
        "id": "fcjGQQTJExYw",
        "outputId": "bf3218be-d13d-4321-89be-adc540eae64b"
      },
      "source": [
        "\n",
        "# Q3. Write a function to find LCM of two number in most optimizers way.\n",
        "\n",
        "def lcm(num1 ,num2):\n",
        "    return (num1 // gcd(num1,num2))* num2\n",
        "num1=int(input(\"Enter first number : \"))\n",
        "num2=int(input(\"Enter second number : \"))\n",
        "print('LCM of', num1, 'and', num2, 'is', lcm(num1, num2))\n",
        "\n"
      ],
      "execution_count": 9,
      "outputs": [
        {
          "output_type": "stream",
          "text": [
            "Enter first number : 32\n",
            "Enter second number : 77\n",
            "LCM of 32 and 77 is 2464\n"
          ],
          "name": "stdout"
        }
      ]
    },
    {
      "cell_type": "code",
      "metadata": {
        "id": "r7ehrPnSN8Cq"
      },
      "source": [
        ""
      ],
      "execution_count": null,
      "outputs": []
    }
  ]
}